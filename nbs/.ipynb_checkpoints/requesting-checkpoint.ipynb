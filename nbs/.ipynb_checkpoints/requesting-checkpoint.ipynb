{
 "cells": [
  {
   "cell_type": "code",
   "execution_count": null,
   "metadata": {},
   "outputs": [],
   "source": [
    "# https://gist.github.com/kylehounslow/767fb72fde2ebdd010a0bf4242371594\n",
    "import requests\n",
    "import cv2\n",
    "import base64\n",
    "import json\n",
    "import time\n",
    "\n",
    "start = time.time()\n",
    "url = 'http://0.0.0.0:8085/emotion/analyze'\n",
    "img_file = 'images/test.png'\n",
    "\n",
    "with open(img_file, \"rb\") as image_file:\n",
    "    payload= base64.b64encode(image_file.read())\n",
    "\n",
    "headers = {'content-type' : 'application/json'}\n",
    "headers = {'content-type' : 'base64'}\n",
    "params = {}\n",
    "\n",
    "response = requests.post(url, data=payload, params=params,headers=headers)\n",
    "print(response.text)\n",
    "print(f'Total time : {time.time() -start }')"
   ]
  }
 ],
 "metadata": {
  "kernelspec": {
   "display_name": "Python 3",
   "language": "python",
   "name": "python3"
  },
  "language_info": {
   "codemirror_mode": {
    "name": "ipython",
    "version": 3
   },
   "file_extension": ".py",
   "mimetype": "text/x-python",
   "name": "python",
   "nbconvert_exporter": "python",
   "pygments_lexer": "ipython3",
   "version": "3.6.8"
  }
 },
 "nbformat": 4,
 "nbformat_minor": 2
}
